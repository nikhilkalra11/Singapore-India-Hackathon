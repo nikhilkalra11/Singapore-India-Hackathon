{
 "cells": [
  {
   "cell_type": "code",
   "execution_count": 3,
   "metadata": {},
   "outputs": [
    {
     "ename": "SyntaxError",
     "evalue": "invalid syntax (<ipython-input-3-6d30bfe5b9a8>, line 100)",
     "output_type": "error",
     "traceback": [
      "\u001b[1;36m  File \u001b[1;32m\"<ipython-input-3-6d30bfe5b9a8>\"\u001b[1;36m, line \u001b[1;32m100\u001b[0m\n\u001b[1;33m    if cv2.inRange(roi2,boundaries0,boundaries1):\u001b[0m\n\u001b[1;37m                                                ^\u001b[0m\n\u001b[1;31mSyntaxError\u001b[0m\u001b[1;31m:\u001b[0m invalid syntax\n"
     ]
    }
   ],
   "source": [
    "import cv2\n",
    "import numpy as np\n",
    "import matplotlib.pyplot as plt\n",
    "import math\n",
    "\n",
    "cam = cv2.VideoCapture(1)\n",
    "\n",
    "cv2.namedWindow(\"test\")\n",
    "\n",
    "img_counter = 0\n",
    "\n",
    "while True:\n",
    "    ret, frame = cam.read()\n",
    "    cv2.imshow('test', frame)\n",
    "    if not ret:\n",
    "        break\n",
    "    k = cv2.waitKey(1)\n",
    "\n",
    "    if k%256 == 27:\n",
    "        # ESC pressed\n",
    "        print(\"Escape hit, closing...\")\n",
    "        break\n",
    "    elif k%256 == 32:\n",
    "        # SPACE pressed\n",
    "        img_name = \"opencv_frame_{}.png\".format(img_counter)\n",
    "        cv2.imwrite(img_name,frame)\n",
    "        imsamp=cv2.imread(img_name)\n",
    "        cv2.imshow('pic',imsamp)\n",
    "        img_counter +=1\n",
    "        \n",
    "        # to gray\n",
    "        gray = cv2.cvtColor(imsamp, cv2.COLOR_BGR2GRAY)\n",
    "        cv2.imshow('gray',gray)\n",
    "    \n",
    "    # Display the resulting frame\n",
    "        # threshold\n",
    "        ret, thresh = cv2.threshold(gray, 150, 255, cv2.THRESH_BINARY_INV)\n",
    "        cv2.imshow('thresholding',thresh)\n",
    "    \n",
    "    \n",
    "        # dilation\n",
    "        kernel = np.ones((1, 1), np.uint8)\n",
    "        img_dilation = cv2.dilate(thresh, kernel, iterations=1)\n",
    "        cv2.imshow('dilation',img_dilation)\n",
    "        \n",
    "        #invert for contour detection\n",
    "        img_inv=255-img_dilation\n",
    "        cv2.imshow('result',img_inv)\n",
    "        \n",
    "        #blur\n",
    "        img_inv = cv2.medianBlur(img_inv,15)\n",
    "        \n",
    "        \n",
    "        im2, ctrs, hier = cv2.findContours(img_inv.copy(), cv2.RETR_EXTERNAL, cv2.CHAIN_APPROX_SIMPLE)\n",
    "\n",
    "        # sort contours\n",
    "        #sorted_ctrs = sorted(ctrs, key=lambda ctr: cv2.boundingRect(ctr)[0])\n",
    "        \n",
    "        boundaries0=np.asarray([100,160,220])\n",
    "        \n",
    "        boundaries1=np.asarray([150,190,260])\n",
    "\n",
    "        for i, ctr in enumerate(ctrs):\n",
    "            # Get bounding box\n",
    "            x, y, w, h = cv2.boundingRect(ctr)\n",
    "\n",
    "            # Getting ROI\n",
    "            roi = imsamp[y:y + h, x:x + w]\n",
    "\n",
    "            # show ROI\n",
    "            # cv2.imshow('segment no:'+str(i),roi)\n",
    "            \n",
    "            \n",
    "            # detect blue color\n",
    "            \n",
    "            #half_box = 5\n",
    "            #smp_roi = imsamp[math.ceil((y+h)/2)-half_box:math.ceil((y+h)/2)+half_box,math.ceil((x+w)/2)-half_box:math.ceil((x+w)/2)+half_box]\n",
    "            '''   \n",
    "            smp_roi_r=np.asarray(smp_roi[:,:,0])\n",
    "            smp_roi_g=np.asarray(smp_roi[:,:,1])\n",
    "            smp_roi_b=np.asarray(smp_roi[:,:,2])\n",
    "            mean1=np.mean(smp_roi_r)\n",
    "            mean2=np.mean(smp_roi_g)\n",
    "            mean3=np.mean(smp_roi_b)\n",
    "            mean_roi=[mean1,mean2,mean3]\n",
    "            if mean_roi > boundaries[0] and mean_roi<boundaries[1]:\n",
    "                color = (0, 255, 0)\n",
    "            else:\n",
    "                color = (255, 0, 0)                \n",
    "            \n",
    "            if (cv2.inRange(smp_roi,boundaries[0],boundaries[1])):\n",
    "                \n",
    "                color = (0, 255, 0)\n",
    "            else:\n",
    "            \n",
    "                color = (255, 0, 0)   \n",
    "            '''\n",
    "            roi2=roi.copy()\n",
    "            cv2.resize(roi2,(roi.shape[0]*roi.shape[1],1)\n",
    "            if cv2.inRange(roi2,boundaries0,boundaries1):\n",
    "                       \n",
    "                    cv2.rectangle(imsamp, (x, y), (x + w, y + h), (0,255,0), 2)\n",
    "            else:\n",
    "                       \n",
    "                    cv2.rectangle(imsamp, (x, y), (x + w, y + h), (255,0,0), 2)\n",
    "            cv2.imshow('final',imsamp)\n",
    "            \n",
    "            \n",
    "        \n",
    "            \n",
    "            \n",
    "            \n",
    "        \n",
    "cam.release()\n",
    "\n",
    "\n",
    "\n",
    "\n",
    "cv2.destroyAllWindows()            \n"
   ]
  },
  {
   "cell_type": "code",
   "execution_count": 13,
   "metadata": {},
   "outputs": [
    {
     "data": {
      "text/plain": [
       "'opencv_frame_0.png'"
      ]
     },
     "execution_count": 13,
     "metadata": {},
     "output_type": "execute_result"
    }
   ],
   "source": [
    "img_name"
   ]
  },
  {
   "cell_type": "code",
   "execution_count": null,
   "metadata": {},
   "outputs": [],
   "source": [
    "mean_roi"
   ]
  },
  {
   "cell_type": "code",
   "execution_count": 1,
   "metadata": {},
   "outputs": [
    {
     "ename": "NameError",
     "evalue": "name 'imsamp' is not defined",
     "output_type": "error",
     "traceback": [
      "\u001b[1;31m---------------------------------------------------------------------------\u001b[0m",
      "\u001b[1;31mNameError\u001b[0m                                 Traceback (most recent call last)",
      "\u001b[1;32m<ipython-input-1-66404a693dfb>\u001b[0m in \u001b[0;36m<module>\u001b[1;34m\u001b[0m\n\u001b[0;32m      1\u001b[0m \u001b[0mhalf_box\u001b[0m \u001b[1;33m=\u001b[0m \u001b[1;36m5\u001b[0m\u001b[1;33m\u001b[0m\u001b[1;33m\u001b[0m\u001b[0m\n\u001b[1;32m----> 2\u001b[1;33m \u001b[0msmp_roi\u001b[0m \u001b[1;33m=\u001b[0m \u001b[0mimsamp\u001b[0m\u001b[1;33m[\u001b[0m\u001b[0mmath\u001b[0m\u001b[1;33m.\u001b[0m\u001b[0mceil\u001b[0m\u001b[1;33m(\u001b[0m\u001b[1;33m(\u001b[0m\u001b[0my\u001b[0m\u001b[1;33m+\u001b[0m\u001b[0mh\u001b[0m\u001b[1;33m)\u001b[0m\u001b[1;33m/\u001b[0m\u001b[1;36m2\u001b[0m\u001b[1;33m)\u001b[0m\u001b[1;33m-\u001b[0m\u001b[0mhalf_box\u001b[0m\u001b[1;33m:\u001b[0m\u001b[0mmath\u001b[0m\u001b[1;33m.\u001b[0m\u001b[0mceil\u001b[0m\u001b[1;33m(\u001b[0m\u001b[1;33m(\u001b[0m\u001b[0my\u001b[0m\u001b[1;33m+\u001b[0m\u001b[0mh\u001b[0m\u001b[1;33m)\u001b[0m\u001b[1;33m/\u001b[0m\u001b[1;36m2\u001b[0m\u001b[1;33m)\u001b[0m\u001b[1;33m+\u001b[0m\u001b[0mhalf_box\u001b[0m\u001b[1;33m,\u001b[0m\u001b[0mmath\u001b[0m\u001b[1;33m.\u001b[0m\u001b[0mceil\u001b[0m\u001b[1;33m(\u001b[0m\u001b[1;33m(\u001b[0m\u001b[0mx\u001b[0m\u001b[1;33m+\u001b[0m\u001b[0mw\u001b[0m\u001b[1;33m)\u001b[0m\u001b[1;33m/\u001b[0m\u001b[1;36m2\u001b[0m\u001b[1;33m)\u001b[0m\u001b[1;33m-\u001b[0m\u001b[0mhalf_box\u001b[0m\u001b[1;33m:\u001b[0m\u001b[0mmath\u001b[0m\u001b[1;33m.\u001b[0m\u001b[0mceil\u001b[0m\u001b[1;33m(\u001b[0m\u001b[1;33m(\u001b[0m\u001b[0mx\u001b[0m\u001b[1;33m+\u001b[0m\u001b[0mw\u001b[0m\u001b[1;33m)\u001b[0m\u001b[1;33m/\u001b[0m\u001b[1;36m2\u001b[0m\u001b[1;33m)\u001b[0m\u001b[1;33m+\u001b[0m\u001b[0mhalf_box\u001b[0m\u001b[1;33m]\u001b[0m\u001b[1;33m\u001b[0m\u001b[1;33m\u001b[0m\u001b[0m\n\u001b[0m\u001b[0;32m      3\u001b[0m \u001b[0mmean_roi\u001b[0m \u001b[1;33m=\u001b[0m \u001b[0mnp\u001b[0m\u001b[1;33m.\u001b[0m\u001b[0mmean\u001b[0m\u001b[1;33m(\u001b[0m\u001b[0msmp_roi\u001b[0m\u001b[1;33m)\u001b[0m\u001b[1;33m\u001b[0m\u001b[1;33m\u001b[0m\u001b[0m\n",
      "\u001b[1;31mNameError\u001b[0m: name 'imsamp' is not defined"
     ]
    }
   ],
   "source": [
    "half_box = 5\n",
    "smp_roi = imsamp[math.ceil((y+h)/2)-half_box:math.ceil((y+h)/2)+half_box,math.ceil((x+w)/2)-half_box:math.ceil((x+w)/2)+half_box]\n",
    "mean_roi = np.mean(smp_roi)"
   ]
  },
  {
   "cell_type": "code",
   "execution_count": null,
   "metadata": {},
   "outputs": [],
   "source": []
  }
 ],
 "metadata": {
  "kernelspec": {
   "display_name": "Python 3",
   "language": "python",
   "name": "python3"
  },
  "language_info": {
   "codemirror_mode": {
    "name": "ipython",
    "version": 3
   },
   "file_extension": ".py",
   "mimetype": "text/x-python",
   "name": "python",
   "nbconvert_exporter": "python",
   "pygments_lexer": "ipython3",
   "version": "3.6.8"
  }
 },
 "nbformat": 4,
 "nbformat_minor": 2
}
